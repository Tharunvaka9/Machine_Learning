{
 "cells": [
  {
   "cell_type": "code",
   "execution_count": 1,
   "id": "e22f2073",
   "metadata": {},
   "outputs": [],
   "source": [
    "import numpy as np\n",
    "import pandas as pd\n",
    "import matplotlib.pyplot as plt\n",
    "import seaborn as sns\n",
    "\n",
    "import warnings\n",
    "warnings.filterwarnings(\"ignore\")"
   ]
  },
  {
   "cell_type": "code",
   "execution_count": 3,
   "id": "04d217c7",
   "metadata": {},
   "outputs": [
    {
     "data": {
      "text/plain": [
       "(200, 4)"
      ]
     },
     "execution_count": 3,
     "metadata": {},
     "output_type": "execute_result"
    }
   ],
   "source": [
    "df=pd.read_csv(r\"C:\\Users\\DELL\\Downloads\\Data Science Sai Charan\\DATA SETS\\Advertising.csv\")\n",
    "df.shape"
   ]
  },
  {
   "cell_type": "code",
   "execution_count": 9,
   "id": "cdfb141a",
   "metadata": {},
   "outputs": [
    {
     "data": {
      "text/html": [
       "<div>\n",
       "<style scoped>\n",
       "    .dataframe tbody tr th:only-of-type {\n",
       "        vertical-align: middle;\n",
       "    }\n",
       "\n",
       "    .dataframe tbody tr th {\n",
       "        vertical-align: top;\n",
       "    }\n",
       "\n",
       "    .dataframe thead th {\n",
       "        text-align: right;\n",
       "    }\n",
       "</style>\n",
       "<table border=\"1\" class=\"dataframe\">\n",
       "  <thead>\n",
       "    <tr style=\"text-align: right;\">\n",
       "      <th></th>\n",
       "      <th>TV</th>\n",
       "      <th>Radio</th>\n",
       "      <th>Newspaper</th>\n",
       "      <th>Sales</th>\n",
       "    </tr>\n",
       "  </thead>\n",
       "  <tbody>\n",
       "    <tr>\n",
       "      <th>0</th>\n",
       "      <td>230.1</td>\n",
       "      <td>37.8</td>\n",
       "      <td>69.2</td>\n",
       "      <td>22.1</td>\n",
       "    </tr>\n",
       "    <tr>\n",
       "      <th>1</th>\n",
       "      <td>44.5</td>\n",
       "      <td>39.3</td>\n",
       "      <td>45.1</td>\n",
       "      <td>10.4</td>\n",
       "    </tr>\n",
       "    <tr>\n",
       "      <th>2</th>\n",
       "      <td>17.2</td>\n",
       "      <td>45.9</td>\n",
       "      <td>69.3</td>\n",
       "      <td>12.0</td>\n",
       "    </tr>\n",
       "    <tr>\n",
       "      <th>3</th>\n",
       "      <td>151.5</td>\n",
       "      <td>41.3</td>\n",
       "      <td>58.5</td>\n",
       "      <td>16.5</td>\n",
       "    </tr>\n",
       "    <tr>\n",
       "      <th>4</th>\n",
       "      <td>180.8</td>\n",
       "      <td>10.8</td>\n",
       "      <td>58.4</td>\n",
       "      <td>17.9</td>\n",
       "    </tr>\n",
       "    <tr>\n",
       "      <th>...</th>\n",
       "      <td>...</td>\n",
       "      <td>...</td>\n",
       "      <td>...</td>\n",
       "      <td>...</td>\n",
       "    </tr>\n",
       "    <tr>\n",
       "      <th>95</th>\n",
       "      <td>163.3</td>\n",
       "      <td>31.6</td>\n",
       "      <td>52.9</td>\n",
       "      <td>16.9</td>\n",
       "    </tr>\n",
       "    <tr>\n",
       "      <th>96</th>\n",
       "      <td>197.6</td>\n",
       "      <td>3.5</td>\n",
       "      <td>5.9</td>\n",
       "      <td>16.7</td>\n",
       "    </tr>\n",
       "    <tr>\n",
       "      <th>97</th>\n",
       "      <td>184.9</td>\n",
       "      <td>21.0</td>\n",
       "      <td>22.0</td>\n",
       "      <td>20.5</td>\n",
       "    </tr>\n",
       "    <tr>\n",
       "      <th>98</th>\n",
       "      <td>289.7</td>\n",
       "      <td>42.3</td>\n",
       "      <td>51.2</td>\n",
       "      <td>25.4</td>\n",
       "    </tr>\n",
       "    <tr>\n",
       "      <th>99</th>\n",
       "      <td>135.2</td>\n",
       "      <td>41.7</td>\n",
       "      <td>45.9</td>\n",
       "      <td>17.2</td>\n",
       "    </tr>\n",
       "  </tbody>\n",
       "</table>\n",
       "<p>100 rows × 4 columns</p>\n",
       "</div>"
      ],
      "text/plain": [
       "       TV  Radio  Newspaper  Sales\n",
       "0   230.1   37.8       69.2   22.1\n",
       "1    44.5   39.3       45.1   10.4\n",
       "2    17.2   45.9       69.3   12.0\n",
       "3   151.5   41.3       58.5   16.5\n",
       "4   180.8   10.8       58.4   17.9\n",
       "..    ...    ...        ...    ...\n",
       "95  163.3   31.6       52.9   16.9\n",
       "96  197.6    3.5        5.9   16.7\n",
       "97  184.9   21.0       22.0   20.5\n",
       "98  289.7   42.3       51.2   25.4\n",
       "99  135.2   41.7       45.9   17.2\n",
       "\n",
       "[100 rows x 4 columns]"
      ]
     },
     "execution_count": 9,
     "metadata": {},
     "output_type": "execute_result"
    }
   ],
   "source": [
    "df.head(100)"
   ]
  },
  {
   "cell_type": "code",
   "execution_count": 5,
   "id": "7a711cbb",
   "metadata": {},
   "outputs": [
    {
     "ename": "KeyError",
     "evalue": "\"['Unnamed: 0'] not found in axis\"",
     "output_type": "error",
     "traceback": [
      "\u001b[1;31m---------------------------------------------------------------------------\u001b[0m",
      "\u001b[1;31mKeyError\u001b[0m                                  Traceback (most recent call last)",
      "\u001b[1;32m<ipython-input-5-e335c87d859c>\u001b[0m in \u001b[0;36m<module>\u001b[1;34m\u001b[0m\n\u001b[1;32m----> 1\u001b[1;33m \u001b[0mdf\u001b[0m\u001b[1;33m.\u001b[0m\u001b[0mdrop\u001b[0m\u001b[1;33m(\u001b[0m\u001b[1;34m\"Unnamed: 0\"\u001b[0m\u001b[1;33m,\u001b[0m\u001b[0maxis\u001b[0m\u001b[1;33m=\u001b[0m\u001b[1;36m1\u001b[0m\u001b[1;33m,\u001b[0m\u001b[0minplace\u001b[0m\u001b[1;33m=\u001b[0m\u001b[1;32mTrue\u001b[0m\u001b[1;33m)\u001b[0m\u001b[1;33m\u001b[0m\u001b[1;33m\u001b[0m\u001b[0m\n\u001b[0m",
      "\u001b[1;32mc:\\Users\\DELL\\anaconda3\\lib\\site-packages\\pandas\\core\\frame.py\u001b[0m in \u001b[0;36mdrop\u001b[1;34m(self, labels, axis, index, columns, level, inplace, errors)\u001b[0m\n\u001b[0;32m   4161\u001b[0m                 \u001b[0mweight\u001b[0m  \u001b[1;36m1.0\u001b[0m     \u001b[1;36m0.8\u001b[0m\u001b[1;33m\u001b[0m\u001b[1;33m\u001b[0m\u001b[0m\n\u001b[0;32m   4162\u001b[0m         \"\"\"\n\u001b[1;32m-> 4163\u001b[1;33m         return super().drop(\n\u001b[0m\u001b[0;32m   4164\u001b[0m             \u001b[0mlabels\u001b[0m\u001b[1;33m=\u001b[0m\u001b[0mlabels\u001b[0m\u001b[1;33m,\u001b[0m\u001b[1;33m\u001b[0m\u001b[1;33m\u001b[0m\u001b[0m\n\u001b[0;32m   4165\u001b[0m             \u001b[0maxis\u001b[0m\u001b[1;33m=\u001b[0m\u001b[0maxis\u001b[0m\u001b[1;33m,\u001b[0m\u001b[1;33m\u001b[0m\u001b[1;33m\u001b[0m\u001b[0m\n",
      "\u001b[1;32mc:\\Users\\DELL\\anaconda3\\lib\\site-packages\\pandas\\core\\generic.py\u001b[0m in \u001b[0;36mdrop\u001b[1;34m(self, labels, axis, index, columns, level, inplace, errors)\u001b[0m\n\u001b[0;32m   3885\u001b[0m         \u001b[1;32mfor\u001b[0m \u001b[0maxis\u001b[0m\u001b[1;33m,\u001b[0m \u001b[0mlabels\u001b[0m \u001b[1;32min\u001b[0m \u001b[0maxes\u001b[0m\u001b[1;33m.\u001b[0m\u001b[0mitems\u001b[0m\u001b[1;33m(\u001b[0m\u001b[1;33m)\u001b[0m\u001b[1;33m:\u001b[0m\u001b[1;33m\u001b[0m\u001b[1;33m\u001b[0m\u001b[0m\n\u001b[0;32m   3886\u001b[0m             \u001b[1;32mif\u001b[0m \u001b[0mlabels\u001b[0m \u001b[1;32mis\u001b[0m \u001b[1;32mnot\u001b[0m \u001b[1;32mNone\u001b[0m\u001b[1;33m:\u001b[0m\u001b[1;33m\u001b[0m\u001b[1;33m\u001b[0m\u001b[0m\n\u001b[1;32m-> 3887\u001b[1;33m                 \u001b[0mobj\u001b[0m \u001b[1;33m=\u001b[0m \u001b[0mobj\u001b[0m\u001b[1;33m.\u001b[0m\u001b[0m_drop_axis\u001b[0m\u001b[1;33m(\u001b[0m\u001b[0mlabels\u001b[0m\u001b[1;33m,\u001b[0m \u001b[0maxis\u001b[0m\u001b[1;33m,\u001b[0m \u001b[0mlevel\u001b[0m\u001b[1;33m=\u001b[0m\u001b[0mlevel\u001b[0m\u001b[1;33m,\u001b[0m \u001b[0merrors\u001b[0m\u001b[1;33m=\u001b[0m\u001b[0merrors\u001b[0m\u001b[1;33m)\u001b[0m\u001b[1;33m\u001b[0m\u001b[1;33m\u001b[0m\u001b[0m\n\u001b[0m\u001b[0;32m   3888\u001b[0m \u001b[1;33m\u001b[0m\u001b[0m\n\u001b[0;32m   3889\u001b[0m         \u001b[1;32mif\u001b[0m \u001b[0minplace\u001b[0m\u001b[1;33m:\u001b[0m\u001b[1;33m\u001b[0m\u001b[1;33m\u001b[0m\u001b[0m\n",
      "\u001b[1;32mc:\\Users\\DELL\\anaconda3\\lib\\site-packages\\pandas\\core\\generic.py\u001b[0m in \u001b[0;36m_drop_axis\u001b[1;34m(self, labels, axis, level, errors)\u001b[0m\n\u001b[0;32m   3919\u001b[0m                 \u001b[0mnew_axis\u001b[0m \u001b[1;33m=\u001b[0m \u001b[0maxis\u001b[0m\u001b[1;33m.\u001b[0m\u001b[0mdrop\u001b[0m\u001b[1;33m(\u001b[0m\u001b[0mlabels\u001b[0m\u001b[1;33m,\u001b[0m \u001b[0mlevel\u001b[0m\u001b[1;33m=\u001b[0m\u001b[0mlevel\u001b[0m\u001b[1;33m,\u001b[0m \u001b[0merrors\u001b[0m\u001b[1;33m=\u001b[0m\u001b[0merrors\u001b[0m\u001b[1;33m)\u001b[0m\u001b[1;33m\u001b[0m\u001b[1;33m\u001b[0m\u001b[0m\n\u001b[0;32m   3920\u001b[0m             \u001b[1;32melse\u001b[0m\u001b[1;33m:\u001b[0m\u001b[1;33m\u001b[0m\u001b[1;33m\u001b[0m\u001b[0m\n\u001b[1;32m-> 3921\u001b[1;33m                 \u001b[0mnew_axis\u001b[0m \u001b[1;33m=\u001b[0m \u001b[0maxis\u001b[0m\u001b[1;33m.\u001b[0m\u001b[0mdrop\u001b[0m\u001b[1;33m(\u001b[0m\u001b[0mlabels\u001b[0m\u001b[1;33m,\u001b[0m \u001b[0merrors\u001b[0m\u001b[1;33m=\u001b[0m\u001b[0merrors\u001b[0m\u001b[1;33m)\u001b[0m\u001b[1;33m\u001b[0m\u001b[1;33m\u001b[0m\u001b[0m\n\u001b[0m\u001b[0;32m   3922\u001b[0m             \u001b[0mresult\u001b[0m \u001b[1;33m=\u001b[0m \u001b[0mself\u001b[0m\u001b[1;33m.\u001b[0m\u001b[0mreindex\u001b[0m\u001b[1;33m(\u001b[0m\u001b[1;33m**\u001b[0m\u001b[1;33m{\u001b[0m\u001b[0maxis_name\u001b[0m\u001b[1;33m:\u001b[0m \u001b[0mnew_axis\u001b[0m\u001b[1;33m}\u001b[0m\u001b[1;33m)\u001b[0m\u001b[1;33m\u001b[0m\u001b[1;33m\u001b[0m\u001b[0m\n\u001b[0;32m   3923\u001b[0m \u001b[1;33m\u001b[0m\u001b[0m\n",
      "\u001b[1;32mc:\\Users\\DELL\\anaconda3\\lib\\site-packages\\pandas\\core\\indexes\\base.py\u001b[0m in \u001b[0;36mdrop\u001b[1;34m(self, labels, errors)\u001b[0m\n\u001b[0;32m   5280\u001b[0m         \u001b[1;32mif\u001b[0m \u001b[0mmask\u001b[0m\u001b[1;33m.\u001b[0m\u001b[0many\u001b[0m\u001b[1;33m(\u001b[0m\u001b[1;33m)\u001b[0m\u001b[1;33m:\u001b[0m\u001b[1;33m\u001b[0m\u001b[1;33m\u001b[0m\u001b[0m\n\u001b[0;32m   5281\u001b[0m             \u001b[1;32mif\u001b[0m \u001b[0merrors\u001b[0m \u001b[1;33m!=\u001b[0m \u001b[1;34m\"ignore\"\u001b[0m\u001b[1;33m:\u001b[0m\u001b[1;33m\u001b[0m\u001b[1;33m\u001b[0m\u001b[0m\n\u001b[1;32m-> 5282\u001b[1;33m                 \u001b[1;32mraise\u001b[0m \u001b[0mKeyError\u001b[0m\u001b[1;33m(\u001b[0m\u001b[1;34mf\"{labels[mask]} not found in axis\"\u001b[0m\u001b[1;33m)\u001b[0m\u001b[1;33m\u001b[0m\u001b[1;33m\u001b[0m\u001b[0m\n\u001b[0m\u001b[0;32m   5283\u001b[0m             \u001b[0mindexer\u001b[0m \u001b[1;33m=\u001b[0m \u001b[0mindexer\u001b[0m\u001b[1;33m[\u001b[0m\u001b[1;33m~\u001b[0m\u001b[0mmask\u001b[0m\u001b[1;33m]\u001b[0m\u001b[1;33m\u001b[0m\u001b[1;33m\u001b[0m\u001b[0m\n\u001b[0;32m   5284\u001b[0m         \u001b[1;32mreturn\u001b[0m \u001b[0mself\u001b[0m\u001b[1;33m.\u001b[0m\u001b[0mdelete\u001b[0m\u001b[1;33m(\u001b[0m\u001b[0mindexer\u001b[0m\u001b[1;33m)\u001b[0m\u001b[1;33m\u001b[0m\u001b[1;33m\u001b[0m\u001b[0m\n",
      "\u001b[1;31mKeyError\u001b[0m: \"['Unnamed: 0'] not found in axis\""
     ]
    }
   ],
   "source": [
    "df.drop(\"Unnamed: 0\",axis=1,inplace=True)"
   ]
  },
  {
   "cell_type": "code",
   "execution_count": 6,
   "id": "bbde1e2b",
   "metadata": {},
   "outputs": [
    {
     "data": {
      "text/html": [
       "<div>\n",
       "<style scoped>\n",
       "    .dataframe tbody tr th:only-of-type {\n",
       "        vertical-align: middle;\n",
       "    }\n",
       "\n",
       "    .dataframe tbody tr th {\n",
       "        vertical-align: top;\n",
       "    }\n",
       "\n",
       "    .dataframe thead th {\n",
       "        text-align: right;\n",
       "    }\n",
       "</style>\n",
       "<table border=\"1\" class=\"dataframe\">\n",
       "  <thead>\n",
       "    <tr style=\"text-align: right;\">\n",
       "      <th></th>\n",
       "      <th>TV</th>\n",
       "      <th>Radio</th>\n",
       "      <th>Newspaper</th>\n",
       "      <th>Sales</th>\n",
       "    </tr>\n",
       "  </thead>\n",
       "  <tbody>\n",
       "    <tr>\n",
       "      <th>TV</th>\n",
       "      <td>1.000000</td>\n",
       "      <td>0.054809</td>\n",
       "      <td>0.056648</td>\n",
       "      <td>0.901208</td>\n",
       "    </tr>\n",
       "    <tr>\n",
       "      <th>Radio</th>\n",
       "      <td>0.054809</td>\n",
       "      <td>1.000000</td>\n",
       "      <td>0.354104</td>\n",
       "      <td>0.349631</td>\n",
       "    </tr>\n",
       "    <tr>\n",
       "      <th>Newspaper</th>\n",
       "      <td>0.056648</td>\n",
       "      <td>0.354104</td>\n",
       "      <td>1.000000</td>\n",
       "      <td>0.157960</td>\n",
       "    </tr>\n",
       "    <tr>\n",
       "      <th>Sales</th>\n",
       "      <td>0.901208</td>\n",
       "      <td>0.349631</td>\n",
       "      <td>0.157960</td>\n",
       "      <td>1.000000</td>\n",
       "    </tr>\n",
       "  </tbody>\n",
       "</table>\n",
       "</div>"
      ],
      "text/plain": [
       "                 TV     Radio  Newspaper     Sales\n",
       "TV         1.000000  0.054809   0.056648  0.901208\n",
       "Radio      0.054809  1.000000   0.354104  0.349631\n",
       "Newspaper  0.056648  0.354104   1.000000  0.157960\n",
       "Sales      0.901208  0.349631   0.157960  1.000000"
      ]
     },
     "execution_count": 6,
     "metadata": {},
     "output_type": "execute_result"
    }
   ],
   "source": [
    "df.corr()"
   ]
  },
  {
   "cell_type": "code",
   "execution_count": 7,
   "id": "ecbc7b85",
   "metadata": {},
   "outputs": [
    {
     "data": {
      "text/html": [
       "<div>\n",
       "<style scoped>\n",
       "    .dataframe tbody tr th:only-of-type {\n",
       "        vertical-align: middle;\n",
       "    }\n",
       "\n",
       "    .dataframe tbody tr th {\n",
       "        vertical-align: top;\n",
       "    }\n",
       "\n",
       "    .dataframe thead th {\n",
       "        text-align: right;\n",
       "    }\n",
       "</style>\n",
       "<table border=\"1\" class=\"dataframe\">\n",
       "  <thead>\n",
       "    <tr style=\"text-align: right;\">\n",
       "      <th></th>\n",
       "      <th>TV</th>\n",
       "      <th>Radio</th>\n",
       "      <th>Newspaper</th>\n",
       "    </tr>\n",
       "  </thead>\n",
       "  <tbody>\n",
       "    <tr>\n",
       "      <th>0</th>\n",
       "      <td>230.1</td>\n",
       "      <td>37.8</td>\n",
       "      <td>69.2</td>\n",
       "    </tr>\n",
       "    <tr>\n",
       "      <th>1</th>\n",
       "      <td>44.5</td>\n",
       "      <td>39.3</td>\n",
       "      <td>45.1</td>\n",
       "    </tr>\n",
       "    <tr>\n",
       "      <th>2</th>\n",
       "      <td>17.2</td>\n",
       "      <td>45.9</td>\n",
       "      <td>69.3</td>\n",
       "    </tr>\n",
       "    <tr>\n",
       "      <th>3</th>\n",
       "      <td>151.5</td>\n",
       "      <td>41.3</td>\n",
       "      <td>58.5</td>\n",
       "    </tr>\n",
       "    <tr>\n",
       "      <th>4</th>\n",
       "      <td>180.8</td>\n",
       "      <td>10.8</td>\n",
       "      <td>58.4</td>\n",
       "    </tr>\n",
       "  </tbody>\n",
       "</table>\n",
       "</div>"
      ],
      "text/plain": [
       "      TV  Radio  Newspaper\n",
       "0  230.1   37.8       69.2\n",
       "1   44.5   39.3       45.1\n",
       "2   17.2   45.9       69.3\n",
       "3  151.5   41.3       58.5\n",
       "4  180.8   10.8       58.4"
      ]
     },
     "execution_count": 7,
     "metadata": {},
     "output_type": "execute_result"
    }
   ],
   "source": [
    "X=df[['TV', 'Radio', 'Newspaper']]\n",
    "X.head()"
   ]
  },
  {
   "cell_type": "code",
   "execution_count": 10,
   "id": "9987c4d6",
   "metadata": {},
   "outputs": [
    {
     "data": {
      "text/plain": [
       "0      22.1\n",
       "1      10.4\n",
       "2      12.0\n",
       "3      16.5\n",
       "4      17.9\n",
       "       ... \n",
       "195     7.6\n",
       "196    14.0\n",
       "197    14.8\n",
       "198    25.5\n",
       "199    18.4\n",
       "Name: Sales, Length: 200, dtype: float64"
      ]
     },
     "execution_count": 10,
     "metadata": {},
     "output_type": "execute_result"
    }
   ],
   "source": [
    "Y=df['Sales']\n",
    "Y"
   ]
  },
  {
   "cell_type": "code",
   "execution_count": 11,
   "id": "1fe2e4d0",
   "metadata": {},
   "outputs": [
    {
     "data": {
      "text/plain": [
       "(200, 3)"
      ]
     },
     "execution_count": 11,
     "metadata": {},
     "output_type": "execute_result"
    }
   ],
   "source": [
    "X.shape"
   ]
  },
  {
   "cell_type": "code",
   "execution_count": 12,
   "id": "70c52180",
   "metadata": {},
   "outputs": [],
   "source": [
    "X=df[['TV','Radio','Newspaper']]\n",
    "Y=df['Sales']\n",
    "from sklearn.model_selection import train_test_split\n",
    "X_train,X_test,Y_train,Y_test=train_test_split(X,Y,test_size=0.2)"
   ]
  },
  {
   "cell_type": "code",
   "execution_count": 13,
   "id": "d8d028ed",
   "metadata": {},
   "outputs": [
    {
     "data": {
      "text/plain": [
       "(160, 3)"
      ]
     },
     "execution_count": 13,
     "metadata": {},
     "output_type": "execute_result"
    }
   ],
   "source": [
    "X_train.shape"
   ]
  },
  {
   "cell_type": "code",
   "execution_count": 14,
   "id": "3ae59e09",
   "metadata": {},
   "outputs": [
    {
     "data": {
      "text/plain": [
       "(40, 3)"
      ]
     },
     "execution_count": 14,
     "metadata": {},
     "output_type": "execute_result"
    }
   ],
   "source": [
    "X_test.shape"
   ]
  },
  {
   "cell_type": "code",
   "execution_count": 15,
   "id": "b931391d",
   "metadata": {},
   "outputs": [
    {
     "data": {
      "text/plain": [
       "(160,)"
      ]
     },
     "execution_count": 15,
     "metadata": {},
     "output_type": "execute_result"
    }
   ],
   "source": [
    "Y_train.shape"
   ]
  },
  {
   "cell_type": "code",
   "execution_count": 16,
   "id": "d0fbabc2",
   "metadata": {},
   "outputs": [
    {
     "data": {
      "text/plain": [
       "(40,)"
      ]
     },
     "execution_count": 16,
     "metadata": {},
     "output_type": "execute_result"
    }
   ],
   "source": [
    "Y_test.shape"
   ]
  },
  {
   "cell_type": "code",
   "execution_count": 17,
   "id": "f99a2cc5",
   "metadata": {},
   "outputs": [
    {
     "data": {
      "text/plain": [
       "LinearRegression()"
      ]
     },
     "execution_count": 17,
     "metadata": {},
     "output_type": "execute_result"
    }
   ],
   "source": [
    "from sklearn.linear_model import LinearRegression\n",
    "regressor=LinearRegression()\n",
    "regressor.fit(X_train,Y_train)"
   ]
  },
  {
   "cell_type": "code",
   "execution_count": 18,
   "id": "0dc9f8be",
   "metadata": {},
   "outputs": [
    {
     "data": {
      "text/plain": [
       "array([ 0.05413652,  0.10730169, -0.00119236])"
      ]
     },
     "execution_count": 18,
     "metadata": {},
     "output_type": "execute_result"
    }
   ],
   "source": [
    "regressor.coef_"
   ]
  },
  {
   "cell_type": "code",
   "execution_count": 19,
   "id": "cb1e356a",
   "metadata": {},
   "outputs": [
    {
     "data": {
      "text/plain": [
       "4.719373092792816"
      ]
     },
     "execution_count": 19,
     "metadata": {},
     "output_type": "execute_result"
    }
   ],
   "source": [
    "regressor.intercept_"
   ]
  },
  {
   "cell_type": "code",
   "execution_count": 17,
   "id": "5abbecff",
   "metadata": {},
   "outputs": [],
   "source": [
    "#y=(0.04627757*x1)+(0.19143052*x2)+(-0.00599346*x3)"
   ]
  },
  {
   "cell_type": "code",
   "execution_count": 20,
   "id": "346f1a9b",
   "metadata": {},
   "outputs": [
    {
     "data": {
      "text/plain": [
       "array([19.45137492, 13.80430336, 23.38180709, 24.88053694, 15.08143245,\n",
       "       20.70897819, 11.29162956, 12.29893818, 13.78224887, 12.93954233,\n",
       "       12.18114267, 21.38319186, 10.93532608, 12.11315895,  7.00217541,\n",
       "        8.08038366, 10.6753559 , 17.07456282, 15.7312971 ,  8.78422426,\n",
       "       18.20788492, 18.86090035, 19.30486815, 24.54018141, 21.68950073,\n",
       "       18.03716843, 21.06961888, 24.81739889, 15.18946237, 17.28286344,\n",
       "        9.88309678,  8.3380524 , 10.10662507, 22.13768674, 14.72839172,\n",
       "       11.26094958, 20.02915197, 23.09033716,  9.18213965, 12.47774802])"
      ]
     },
     "execution_count": 20,
     "metadata": {},
     "output_type": "execute_result"
    }
   ],
   "source": [
    "regressor.predict(X_test)"
   ]
  },
  {
   "cell_type": "code",
   "execution_count": 21,
   "id": "dc1d9686",
   "metadata": {},
   "outputs": [],
   "source": [
    "Y_pred_train=regressor.predict(X_train)"
   ]
  },
  {
   "cell_type": "code",
   "execution_count": 22,
   "id": "424a8c11",
   "metadata": {},
   "outputs": [],
   "source": [
    "Y_pred_test=regressor.predict(X_test)"
   ]
  },
  {
   "cell_type": "code",
   "execution_count": 23,
   "id": "049d4850",
   "metadata": {},
   "outputs": [
    {
     "data": {
      "text/plain": [
       "array([19.45137492, 13.80430336, 23.38180709, 24.88053694, 15.08143245,\n",
       "       20.70897819, 11.29162956, 12.29893818, 13.78224887, 12.93954233,\n",
       "       12.18114267, 21.38319186, 10.93532608, 12.11315895,  7.00217541,\n",
       "        8.08038366, 10.6753559 , 17.07456282, 15.7312971 ,  8.78422426,\n",
       "       18.20788492, 18.86090035, 19.30486815, 24.54018141, 21.68950073,\n",
       "       18.03716843, 21.06961888, 24.81739889, 15.18946237, 17.28286344,\n",
       "        9.88309678,  8.3380524 , 10.10662507, 22.13768674, 14.72839172,\n",
       "       11.26094958, 20.02915197, 23.09033716,  9.18213965, 12.47774802])"
      ]
     },
     "execution_count": 23,
     "metadata": {},
     "output_type": "execute_result"
    }
   ],
   "source": [
    "Y_pred_test"
   ]
  },
  {
   "cell_type": "code",
   "execution_count": 24,
   "id": "2fbfc267",
   "metadata": {},
   "outputs": [
    {
     "data": {
      "text/plain": [
       "array([ 9.45162584, 14.28399094,  8.64895954, 19.91748433, 15.78955703,\n",
       "       20.88666252, 10.64348508, 19.30417022, 16.63639676, 23.58396711,\n",
       "       14.58254357, 13.46624059, 16.44964333, 14.41020222,  9.2553405 ,\n",
       "       20.52107711, 17.10854191, 17.09496215, 18.91395549, 15.29181248,\n",
       "       10.7806375 , 17.09324915, 10.34798678, 14.13316699, 15.38933191,\n",
       "       20.15941242,  9.25830828, 11.6937691 ,  9.69553541, 11.79788946,\n",
       "       13.15478866, 16.88752522, 23.56108901, 20.71628983,  8.89129211,\n",
       "       24.90698874, 20.85119199, 21.1496801 , 16.37472462, 16.57540725,\n",
       "       12.3672116 , 12.1601799 , 12.50786941, 17.8392701 , 14.00958424,\n",
       "        6.17923601, 10.33515385, 15.59648128, 20.86178005, 16.83033048,\n",
       "       17.67810191, 10.50174129, 20.17370244,  8.2088227 ,  9.8757607 ,\n",
       "        9.06167199, 19.33628284, 18.73524255, 10.21676756, 23.86226358,\n",
       "       15.78527125, 11.78170865,  5.44095792, 12.50459763, 12.63506982,\n",
       "       10.59513891, 12.14830231, 15.81091893,  9.68817523,  7.91694288,\n",
       "       19.43773356, 18.65505947, 14.7364129 , 11.32369828, 15.5843982 ,\n",
       "       21.24370996, 21.13428359,  5.40908839, 18.12272045, 16.45838246,\n",
       "        9.05015264, 18.91295593, 21.42569882,  7.08093121, 19.24401485,\n",
       "       17.16135396,  8.92359801, 12.02286275, 18.25172379, 10.80459206,\n",
       "       12.65241111, 20.94665776, 22.01236815, 17.75590594,  9.95838477,\n",
       "       10.95265608, 18.26404512, 18.09060214,  8.00549167, 21.36287169,\n",
       "       15.96347873,  6.05277978, 15.88074473, 15.23541946, 20.63329655,\n",
       "       21.40856434, 24.5002283 , 11.18048384, 13.75906708, 13.31586507,\n",
       "       16.95632003,  8.09022191, 19.48218577, 21.28882158, 21.8539725 ,\n",
       "       11.08663007, 13.44530834, 18.89610902, 15.8272303 , 17.51057352,\n",
       "       22.13253129, 10.04163737, 11.46898906,  7.16795005,  8.99604208,\n",
       "       22.56637489, 10.49303859,  9.80191409,  7.80476408, 21.0691111 ,\n",
       "        9.61784271, 16.71587184, 10.2789451 , 18.19688134, 20.50906444,\n",
       "       16.7900759 ,  9.42225971, 19.28024964, 17.89994815,  9.55265761,\n",
       "       21.89961659,  6.38928246, 21.2401537 , 20.35286485,  7.45985916,\n",
       "       18.49048134,  7.2176918 , 13.93343207, 14.993378  , 17.08487777,\n",
       "       12.46503506, 10.20959059, 18.09725053, 17.13895057, 13.14149054,\n",
       "       18.84402053,  9.69720552, 19.49204914, 24.13600439,  6.35512843])"
      ]
     },
     "execution_count": 24,
     "metadata": {},
     "output_type": "execute_result"
    }
   ],
   "source": [
    "Y_pred_train"
   ]
  },
  {
   "cell_type": "code",
   "execution_count": 25,
   "id": "5d42affa",
   "metadata": {},
   "outputs": [
    {
     "data": {
      "text/plain": [
       "65     11.3\n",
       "77     14.2\n",
       "170     8.4\n",
       "178    16.8\n",
       "9      15.6\n",
       "       ... \n",
       "168    17.1\n",
       "166     8.0\n",
       "53     21.2\n",
       "17     24.4\n",
       "76      6.9\n",
       "Name: Sales, Length: 160, dtype: float64"
      ]
     },
     "execution_count": 25,
     "metadata": {},
     "output_type": "execute_result"
    }
   ],
   "source": [
    "Y_train"
   ]
  },
  {
   "cell_type": "code",
   "execution_count": 26,
   "id": "c7ad708f",
   "metadata": {},
   "outputs": [
    {
     "data": {
      "text/html": [
       "<div>\n",
       "<style scoped>\n",
       "    .dataframe tbody tr th:only-of-type {\n",
       "        vertical-align: middle;\n",
       "    }\n",
       "\n",
       "    .dataframe tbody tr th {\n",
       "        vertical-align: top;\n",
       "    }\n",
       "\n",
       "    .dataframe thead th {\n",
       "        text-align: right;\n",
       "    }\n",
       "</style>\n",
       "<table border=\"1\" class=\"dataframe\">\n",
       "  <thead>\n",
       "    <tr style=\"text-align: right;\">\n",
       "      <th></th>\n",
       "      <th>TV</th>\n",
       "      <th>Radio</th>\n",
       "      <th>Newspaper</th>\n",
       "    </tr>\n",
       "  </thead>\n",
       "  <tbody>\n",
       "    <tr>\n",
       "      <th>65</th>\n",
       "      <td>69.0</td>\n",
       "      <td>9.3</td>\n",
       "      <td>0.9</td>\n",
       "    </tr>\n",
       "    <tr>\n",
       "      <th>77</th>\n",
       "      <td>120.5</td>\n",
       "      <td>28.5</td>\n",
       "      <td>14.2</td>\n",
       "    </tr>\n",
       "    <tr>\n",
       "      <th>170</th>\n",
       "      <td>50.0</td>\n",
       "      <td>11.6</td>\n",
       "      <td>18.4</td>\n",
       "    </tr>\n",
       "    <tr>\n",
       "      <th>178</th>\n",
       "      <td>276.7</td>\n",
       "      <td>2.3</td>\n",
       "      <td>23.7</td>\n",
       "    </tr>\n",
       "    <tr>\n",
       "      <th>9</th>\n",
       "      <td>199.8</td>\n",
       "      <td>2.6</td>\n",
       "      <td>21.2</td>\n",
       "    </tr>\n",
       "  </tbody>\n",
       "</table>\n",
       "</div>"
      ],
      "text/plain": [
       "        TV  Radio  Newspaper\n",
       "65    69.0    9.3        0.9\n",
       "77   120.5   28.5       14.2\n",
       "170   50.0   11.6       18.4\n",
       "178  276.7    2.3       23.7\n",
       "9    199.8    2.6       21.2"
      ]
     },
     "execution_count": 26,
     "metadata": {},
     "output_type": "execute_result"
    }
   ],
   "source": [
    "X_train.head()"
   ]
  },
  {
   "cell_type": "code",
   "execution_count": 27,
   "id": "0b4050bb",
   "metadata": {},
   "outputs": [
    {
     "data": {
      "text/plain": [
       "13.979737144443101"
      ]
     },
     "execution_count": 27,
     "metadata": {},
     "output_type": "execute_result"
    }
   ],
   "source": [
    "y=(0.04611906*175.7)+(0.1899*15.4)+(-0.0011344*2.4)+2.954880862443101\n",
    "y"
   ]
  },
  {
   "cell_type": "code",
   "execution_count": 28,
   "id": "1642a7c7",
   "metadata": {},
   "outputs": [
    {
     "data": {
      "text/plain": [
       "24.302972598443105"
      ]
     },
     "execution_count": 28,
     "metadata": {},
     "output_type": "execute_result"
    }
   ],
   "source": [
    "y=(0.04611906*287.6)+(0.1899*43.0)+(-0.0011344*71.8)+2.954880862443101\n",
    "y"
   ]
  },
  {
   "cell_type": "code",
   "execution_count": 27,
   "id": "f1859ac8",
   "metadata": {},
   "outputs": [],
   "source": [
    "# 15.59458137 value it predicted"
   ]
  },
  {
   "cell_type": "code",
   "execution_count": 28,
   "id": "f80680ce",
   "metadata": {},
   "outputs": [],
   "source": [
    "# How are my predictions perfect to what level predictions also have some error know "
   ]
  },
  {
   "cell_type": "code",
   "execution_count": 30,
   "id": "20a9796a",
   "metadata": {},
   "outputs": [
    {
     "data": {
      "text/plain": [
       "20     18.0\n",
       "67     13.4\n",
       "61     24.2\n",
       "98     25.4\n",
       "123    15.2\n",
       "184    17.6\n",
       "1      10.4\n",
       "73     11.0\n",
       "159    12.9\n",
       "157    10.1\n",
       "16     12.5\n",
       "176    20.2\n",
       "82     11.3\n",
       "151    11.6\n",
       "189     6.7\n",
       "56      5.5\n",
       "125    10.6\n",
       "85     20.2\n",
       "89     16.7\n",
       "44      8.5\n",
       "153    16.0\n",
       "23     20.5\n",
       "62     20.7\n",
       "101    23.8\n",
       "188    20.9\n",
       "40     16.6\n",
       "39     21.5\n",
       "183    26.2\n",
       "120    15.5\n",
       "3      16.5\n",
       "149    10.1\n",
       "182     8.7\n",
       "32     13.2\n",
       "47     23.2\n",
       "177    16.7\n",
       "190    10.8\n",
       "92     19.4\n",
       "147    25.4\n",
       "129     9.7\n",
       "115    12.6\n",
       "Name: Sales, dtype: float64"
      ]
     },
     "execution_count": 30,
     "metadata": {},
     "output_type": "execute_result"
    }
   ],
   "source": [
    "Y_test"
   ]
  },
  {
   "cell_type": "code",
   "execution_count": 31,
   "id": "cde49483",
   "metadata": {},
   "outputs": [
    {
     "data": {
      "text/plain": [
       "array([19.45137492, 13.80430336, 23.38180709, 24.88053694, 15.08143245,\n",
       "       20.70897819, 11.29162956, 12.29893818, 13.78224887, 12.93954233,\n",
       "       12.18114267, 21.38319186, 10.93532608, 12.11315895,  7.00217541,\n",
       "        8.08038366, 10.6753559 , 17.07456282, 15.7312971 ,  8.78422426,\n",
       "       18.20788492, 18.86090035, 19.30486815, 24.54018141, 21.68950073,\n",
       "       18.03716843, 21.06961888, 24.81739889, 15.18946237, 17.28286344,\n",
       "        9.88309678,  8.3380524 , 10.10662507, 22.13768674, 14.72839172,\n",
       "       11.26094958, 20.02915197, 23.09033716,  9.18213965, 12.47774802])"
      ]
     },
     "execution_count": 31,
     "metadata": {},
     "output_type": "execute_result"
    }
   ],
   "source": [
    "Y_pred_test"
   ]
  },
  {
   "cell_type": "code",
   "execution_count": 31,
   "id": "ea83542f",
   "metadata": {},
   "outputs": [],
   "source": [
    "# Errors with General Example Adjusted R square lies between 0 and 1"
   ]
  },
  {
   "cell_type": "code",
   "execution_count": 32,
   "id": "dd54c372",
   "metadata": {},
   "outputs": [],
   "source": [
    "#MAE\n",
    "from sklearn.metrics import mean_absolute_error,mean_squared_error,r2_score"
   ]
  },
  {
   "cell_type": "code",
   "execution_count": 33,
   "id": "ed60f5b1",
   "metadata": {},
   "outputs": [
    {
     "name": "stdout",
     "output_type": "stream",
     "text": [
      "2.299323976485044    4.740851927514633\n"
     ]
    }
   ],
   "source": [
    "mse_train=mean_squared_error(Y_train,Y_pred_train)\n",
    "mse_test=mean_squared_error(Y_test,Y_pred_test)\n",
    "print(mse_train,\"  \",mse_test)"
   ]
  },
  {
   "cell_type": "code",
   "execution_count": 33,
   "id": "29c2ad83",
   "metadata": {},
   "outputs": [
    {
     "name": "stdout",
     "output_type": "stream",
     "text": [
      "1.2737546793559429    1.0977693645484323\n"
     ]
    }
   ],
   "source": [
    "mae_train=mean_absolute_error(Y_train,Y_pred_train)\n",
    "mae_test=mean_absolute_error(Y_test,Y_pred_test)\n",
    "print(mae_train,\"  \",mae_test)"
   ]
  },
  {
   "cell_type": "code",
   "execution_count": 34,
   "id": "79bff59d",
   "metadata": {},
   "outputs": [
    {
     "name": "stdout",
     "output_type": "stream",
     "text": [
      "1.6981349805370591    1.415916362195238\n"
     ]
    }
   ],
   "source": [
    "rmse_train=np.sqrt(mean_squared_error(Y_train,Y_pred_train))\n",
    "rmse_test=np.sqrt(mean_squared_error(Y_test,Y_pred_test))\n",
    "print(rmse_train,\"  \",rmse_test)"
   ]
  },
  {
   "cell_type": "code",
   "execution_count": 35,
   "id": "83051715",
   "metadata": {},
   "outputs": [
    {
     "name": "stdout",
     "output_type": "stream",
     "text": [
      "0.8929129891313564    0.9347113314640897\n"
     ]
    }
   ],
   "source": [
    "r2_score_train=r2_score(Y_train,Y_pred_train)\n",
    "r2_score_test=r2_score(Y_test,Y_pred_test)\n",
    "print(r2_score_train,\"  \",r2_score_test)"
   ]
  },
  {
   "cell_type": "code",
   "execution_count": 36,
   "id": "4b79fe33",
   "metadata": {},
   "outputs": [
    {
     "data": {
      "text/plain": [
       "160"
      ]
     },
     "execution_count": 36,
     "metadata": {},
     "output_type": "execute_result"
    }
   ],
   "source": [
    "n_train=X_train.shape[0]\n",
    "n_train"
   ]
  },
  {
   "cell_type": "code",
   "execution_count": 37,
   "id": "4ee72294",
   "metadata": {},
   "outputs": [
    {
     "data": {
      "text/plain": [
       "40"
      ]
     },
     "execution_count": 37,
     "metadata": {},
     "output_type": "execute_result"
    }
   ],
   "source": [
    "n_test=X_test.shape[0]\n",
    "n_test"
   ]
  },
  {
   "cell_type": "code",
   "execution_count": 38,
   "id": "012d550b",
   "metadata": {},
   "outputs": [
    {
     "data": {
      "text/plain": [
       "3"
      ]
     },
     "execution_count": 38,
     "metadata": {},
     "output_type": "execute_result"
    }
   ],
   "source": [
    "p=len(X_train.columns)\n",
    "p"
   ]
  },
  {
   "cell_type": "code",
   "execution_count": 39,
   "id": "b708faab",
   "metadata": {},
   "outputs": [
    {
     "name": "stdout",
     "output_type": "stream",
     "text": [
      "89.08536235377287     92.92706090860972\n"
     ]
    }
   ],
   "source": [
    "adj_r2_score_train=1-(((1-r2_score_train)*(n_train-1))/(n_train-p-1))\n",
    "adj_r2_score_test=1-(((1-r2_score_test)*(n_test-1))/(n_test-p-1))\n",
    "print(adj_r2_score_train*100,\"   \",adj_r2_score_test*100)"
   ]
  },
  {
   "cell_type": "markdown",
   "id": "da238dc1",
   "metadata": {},
   "source": [
    "# Task exclude News paper Column and do the same and say whether They are useful or not"
   ]
  },
  {
   "cell_type": "code",
   "execution_count": 40,
   "id": "111baad4",
   "metadata": {},
   "outputs": [
    {
     "data": {
      "text/html": [
       "<div>\n",
       "<style scoped>\n",
       "    .dataframe tbody tr th:only-of-type {\n",
       "        vertical-align: middle;\n",
       "    }\n",
       "\n",
       "    .dataframe tbody tr th {\n",
       "        vertical-align: top;\n",
       "    }\n",
       "\n",
       "    .dataframe thead th {\n",
       "        text-align: right;\n",
       "    }\n",
       "</style>\n",
       "<table border=\"1\" class=\"dataframe\">\n",
       "  <thead>\n",
       "    <tr style=\"text-align: right;\">\n",
       "      <th></th>\n",
       "      <th>TV</th>\n",
       "      <th>Radio</th>\n",
       "    </tr>\n",
       "  </thead>\n",
       "  <tbody>\n",
       "    <tr>\n",
       "      <th>0</th>\n",
       "      <td>230.1</td>\n",
       "      <td>37.8</td>\n",
       "    </tr>\n",
       "    <tr>\n",
       "      <th>1</th>\n",
       "      <td>44.5</td>\n",
       "      <td>39.3</td>\n",
       "    </tr>\n",
       "    <tr>\n",
       "      <th>2</th>\n",
       "      <td>17.2</td>\n",
       "      <td>45.9</td>\n",
       "    </tr>\n",
       "    <tr>\n",
       "      <th>3</th>\n",
       "      <td>151.5</td>\n",
       "      <td>41.3</td>\n",
       "    </tr>\n",
       "    <tr>\n",
       "      <th>4</th>\n",
       "      <td>180.8</td>\n",
       "      <td>10.8</td>\n",
       "    </tr>\n",
       "  </tbody>\n",
       "</table>\n",
       "</div>"
      ],
      "text/plain": [
       "      TV  Radio\n",
       "0  230.1   37.8\n",
       "1   44.5   39.3\n",
       "2   17.2   45.9\n",
       "3  151.5   41.3\n",
       "4  180.8   10.8"
      ]
     },
     "execution_count": 40,
     "metadata": {},
     "output_type": "execute_result"
    }
   ],
   "source": [
    "X=df[['TV', 'Radio']]\n",
    "X.head()"
   ]
  },
  {
   "cell_type": "code",
   "execution_count": 41,
   "id": "95a60e63",
   "metadata": {},
   "outputs": [
    {
     "data": {
      "text/plain": [
       "0      22.1\n",
       "1      10.4\n",
       "2      12.0\n",
       "3      16.5\n",
       "4      17.9\n",
       "       ... \n",
       "195     7.6\n",
       "196    14.0\n",
       "197    14.8\n",
       "198    25.5\n",
       "199    18.4\n",
       "Name: Sales, Length: 200, dtype: float64"
      ]
     },
     "execution_count": 41,
     "metadata": {},
     "output_type": "execute_result"
    }
   ],
   "source": [
    "Y=df['Sales']\n",
    "Y"
   ]
  },
  {
   "cell_type": "code",
   "execution_count": 42,
   "id": "3abdf6c8",
   "metadata": {},
   "outputs": [
    {
     "data": {
      "text/plain": [
       "(200, 2)"
      ]
     },
     "execution_count": 42,
     "metadata": {},
     "output_type": "execute_result"
    }
   ],
   "source": [
    "X.shape"
   ]
  },
  {
   "cell_type": "code",
   "execution_count": 43,
   "id": "1d7e7323",
   "metadata": {},
   "outputs": [],
   "source": [
    "X=df[['TV','Radio']]\n",
    "Y=df['Sales']\n",
    "from sklearn.model_selection import train_test_split\n",
    "X_train,X_test,Y_train,Y_test=train_test_split(X,Y,test_size=0.2)"
   ]
  },
  {
   "cell_type": "code",
   "execution_count": 44,
   "id": "746ca751",
   "metadata": {},
   "outputs": [
    {
     "data": {
      "text/plain": [
       "(160, 2)"
      ]
     },
     "execution_count": 44,
     "metadata": {},
     "output_type": "execute_result"
    }
   ],
   "source": [
    "X_train.shape"
   ]
  },
  {
   "cell_type": "code",
   "execution_count": 45,
   "id": "b61645d2",
   "metadata": {},
   "outputs": [
    {
     "data": {
      "text/plain": [
       "(40, 2)"
      ]
     },
     "execution_count": 45,
     "metadata": {},
     "output_type": "execute_result"
    }
   ],
   "source": [
    "X_test.shape"
   ]
  },
  {
   "cell_type": "code",
   "execution_count": 46,
   "id": "0274922f",
   "metadata": {},
   "outputs": [
    {
     "data": {
      "text/plain": [
       "(160,)"
      ]
     },
     "execution_count": 46,
     "metadata": {},
     "output_type": "execute_result"
    }
   ],
   "source": [
    "Y_train.shape"
   ]
  },
  {
   "cell_type": "code",
   "execution_count": 47,
   "id": "11388d37",
   "metadata": {},
   "outputs": [
    {
     "data": {
      "text/plain": [
       "(40,)"
      ]
     },
     "execution_count": 47,
     "metadata": {},
     "output_type": "execute_result"
    }
   ],
   "source": [
    "Y_test.shape"
   ]
  },
  {
   "cell_type": "code",
   "execution_count": 48,
   "id": "0aad378c",
   "metadata": {},
   "outputs": [
    {
     "data": {
      "text/plain": [
       "LinearRegression()"
      ]
     },
     "execution_count": 48,
     "metadata": {},
     "output_type": "execute_result"
    }
   ],
   "source": [
    "from sklearn.linear_model import LinearRegression\n",
    "regressor1=LinearRegression()\n",
    "regressor1.fit(X_train,Y_train)"
   ]
  },
  {
   "cell_type": "code",
   "execution_count": 51,
   "id": "b24ddb0b",
   "metadata": {},
   "outputs": [
    {
     "data": {
      "text/plain": [
       "array([0.0546951 , 0.10305616])"
      ]
     },
     "execution_count": 51,
     "metadata": {},
     "output_type": "execute_result"
    }
   ],
   "source": [
    "regressor1.coef_"
   ]
  },
  {
   "cell_type": "code",
   "execution_count": 50,
   "id": "b54722bd",
   "metadata": {},
   "outputs": [
    {
     "data": {
      "text/plain": [
       "4.626343287049272"
      ]
     },
     "execution_count": 50,
     "metadata": {},
     "output_type": "execute_result"
    }
   ],
   "source": [
    "regressor1.intercept_"
   ]
  },
  {
   "cell_type": "code",
   "execution_count": 52,
   "id": "7c085fa2",
   "metadata": {},
   "outputs": [
    {
     "data": {
      "text/plain": [
       "array([ 9.33235562, 13.80304151, 16.6761185 , 20.94873909, 18.51094674,\n",
       "       23.53948024, 18.21339311, 10.61181868, 10.52389546, 17.08966992,\n",
       "       13.72652835, 11.15155355, 12.11012212, 17.07256801, 10.13671589,\n",
       "       20.59617292, 24.57890949, 13.45954195, 15.14597371, 11.94338325,\n",
       "       17.82155736, 20.70305584, 20.75980475, 15.92656451,  7.88890965,\n",
       "       10.04572805,  9.49120253, 17.14092446, 22.97794339, 20.9927775 ,\n",
       "       17.74945169, 13.00312385,  8.88749385, 12.55153454, 13.29399236,\n",
       "       16.52221887, 22.11089367, 12.34091086, 18.85488369,  9.73530154])"
      ]
     },
     "execution_count": 52,
     "metadata": {},
     "output_type": "execute_result"
    }
   ],
   "source": [
    "regressor1.predict(X_test)"
   ]
  },
  {
   "cell_type": "code",
   "execution_count": 53,
   "id": "01a31cb2",
   "metadata": {},
   "outputs": [],
   "source": [
    "Y_pred_train=regressor1.predict(X_train)"
   ]
  },
  {
   "cell_type": "code",
   "execution_count": 54,
   "id": "f1858e09",
   "metadata": {},
   "outputs": [],
   "source": [
    "Y_pred_test=regressor1.predict(X_test)"
   ]
  },
  {
   "cell_type": "code",
   "execution_count": 55,
   "id": "7f001937",
   "metadata": {},
   "outputs": [
    {
     "data": {
      "text/plain": [
       "array([ 9.33235562, 13.80304151, 16.6761185 , 20.94873909, 18.51094674,\n",
       "       23.53948024, 18.21339311, 10.61181868, 10.52389546, 17.08966992,\n",
       "       13.72652835, 11.15155355, 12.11012212, 17.07256801, 10.13671589,\n",
       "       20.59617292, 24.57890949, 13.45954195, 15.14597371, 11.94338325,\n",
       "       17.82155736, 20.70305584, 20.75980475, 15.92656451,  7.88890965,\n",
       "       10.04572805,  9.49120253, 17.14092446, 22.97794339, 20.9927775 ,\n",
       "       17.74945169, 13.00312385,  8.88749385, 12.55153454, 13.29399236,\n",
       "       16.52221887, 22.11089367, 12.34091086, 18.85488369,  9.73530154])"
      ]
     },
     "execution_count": 55,
     "metadata": {},
     "output_type": "execute_result"
    }
   ],
   "source": [
    "Y_pred_test"
   ]
  },
  {
   "cell_type": "code",
   "execution_count": 56,
   "id": "d383c2d1",
   "metadata": {},
   "outputs": [
    {
     "data": {
      "text/plain": [
       "array([20.98204327,  6.89612118, 18.13654643, 12.47272766,  7.75864345,\n",
       "        5.38407156, 21.26765585, 15.87389835, 17.13372588, 11.10707045,\n",
       "       17.12538046, 22.57471514,  7.89092982, 18.86897218, 18.08694342,\n",
       "        5.31313908, 21.76228299, 10.00494297, 11.55664837, 20.48667155,\n",
       "       18.68135731, 10.74234234, 19.19075754, 14.86517091, 11.63362379,\n",
       "        9.0128903 , 16.8084312 , 15.55794966, 16.95060335, 15.62822387,\n",
       "       16.48299901,  8.55654973,  8.88442045, 18.03628865, 12.47687039,\n",
       "       12.59459724,  7.33632677, 14.24515609,  9.06904823, 18.83345913,\n",
       "       10.14163684,  9.49302522, 13.72592128, 17.36145878, 17.80273516,\n",
       "       24.78806887, 14.15420336, 19.37486309, 10.93487085, 12.9534872 ,\n",
       "       21.18954235, 14.05449415,  6.29534839,  7.92149559, 15.30428962,\n",
       "        9.06184965, 15.77756095, 14.71441343, 14.56869685,  9.86882985,\n",
       "       20.2295446 , 18.84272906,  7.12733854, 17.83530354, 14.73928734,\n",
       "       13.22059502, 13.73968502,  5.98962926, 19.98584787, 18.16475851,\n",
       "       21.1072086 , 18.83979317, 21.32490212, 17.233675  , 23.3186709 ,\n",
       "        6.34520738, 12.10556834, 20.10807731,  8.00307598,  9.6473871 ,\n",
       "       19.43034665, 18.20735895, 24.81086264, 21.02730606,  8.28762801,\n",
       "       10.39291833, 10.29737671, 12.95364227, 12.08385267, 18.07784464,\n",
       "       24.83078927, 13.71360427, 12.29130933, 15.82237027, 19.42640872,\n",
       "       15.46181853, 20.50758266, 19.47967464,  8.74565376, 12.49587251,\n",
       "       21.26855549, 16.2076745 , 10.55274973,  9.48029716,  9.73006316,\n",
       "       15.26579826, 20.73516197, 21.96276342, 16.81462773, 23.56302736,\n",
       "       11.76450731,  9.60169717,  7.76979604, 21.41173845, 11.41324306,\n",
       "        8.64773358, 19.26363265,  8.83941512, 16.47318198, 20.44500439,\n",
       "        9.12284515, 16.90364661, 16.7962166 , 21.36768249, 10.83692434,\n",
       "       11.11038229,  9.54535785, 10.09729124, 14.92505319, 15.79479159,\n",
       "       24.09856831, 19.36638162, 15.11666597, 21.00840634, 18.66965615,\n",
       "       19.99750661, 17.1688703 ,  9.35872746, 10.05424463, 12.10652649,\n",
       "       15.8233372 , 21.70162248, 18.00025337, 21.21448501, 19.31225117,\n",
       "        6.04604464, 21.7254256 , 12.11175609, 11.02240787, 19.18016082,\n",
       "       22.02452837, 10.28359688, 16.31856263,  7.09700389, 10.8579203 ,\n",
       "       20.10070758, 23.73832523, 24.46623231,  6.98691154, 10.62256022])"
      ]
     },
     "execution_count": 56,
     "metadata": {},
     "output_type": "execute_result"
    }
   ],
   "source": [
    "Y_pred_train"
   ]
  },
  {
   "cell_type": "code",
   "execution_count": 57,
   "id": "03377254",
   "metadata": {},
   "outputs": [
    {
     "data": {
      "text/plain": [
       "39     21.5\n",
       "189     6.7\n",
       "21     17.5\n",
       "186    10.3\n",
       "60      8.1\n",
       "       ... \n",
       "133    19.6\n",
       "36     25.4\n",
       "198    25.5\n",
       "22      5.6\n",
       "134    10.8\n",
       "Name: Sales, Length: 160, dtype: float64"
      ]
     },
     "execution_count": 57,
     "metadata": {},
     "output_type": "execute_result"
    }
   ],
   "source": [
    "Y_train"
   ]
  },
  {
   "cell_type": "code",
   "execution_count": 58,
   "id": "5484b0a4",
   "metadata": {},
   "outputs": [
    {
     "data": {
      "text/plain": [
       "24      9.7\n",
       "37     14.7\n",
       "103    19.7\n",
       "35     17.8\n",
       "146    18.2\n",
       "42     20.7\n",
       "113    20.9\n",
       "125    10.6\n",
       "18     11.3\n",
       "85     20.2\n",
       "114    14.6\n",
       "6      11.8\n",
       "151    11.6\n",
       "154    20.6\n",
       "29     10.5\n",
       "55     23.7\n",
       "101    23.8\n",
       "180    15.5\n",
       "19     14.6\n",
       "94     11.5\n",
       "110    18.4\n",
       "184    17.6\n",
       "52     22.6\n",
       "160    16.4\n",
       "132     5.7\n",
       "136     9.5\n",
       "49      9.7\n",
       "174    16.5\n",
       "147    25.4\n",
       "102    19.8\n",
       "41     17.1\n",
       "161    13.3\n",
       "117     9.4\n",
       "164    11.9\n",
       "63     14.0\n",
       "45     16.1\n",
       "93     22.2\n",
       "115    12.6\n",
       "23     20.5\n",
       "38     10.1\n",
       "Name: Sales, dtype: float64"
      ]
     },
     "execution_count": 58,
     "metadata": {},
     "output_type": "execute_result"
    }
   ],
   "source": [
    "Y_test"
   ]
  },
  {
   "cell_type": "code",
   "execution_count": 59,
   "id": "acbfd424",
   "metadata": {},
   "outputs": [
    {
     "data": {
      "text/plain": [
       "array([ 9.33235562, 13.80304151, 16.6761185 , 20.94873909, 18.51094674,\n",
       "       23.53948024, 18.21339311, 10.61181868, 10.52389546, 17.08966992,\n",
       "       13.72652835, 11.15155355, 12.11012212, 17.07256801, 10.13671589,\n",
       "       20.59617292, 24.57890949, 13.45954195, 15.14597371, 11.94338325,\n",
       "       17.82155736, 20.70305584, 20.75980475, 15.92656451,  7.88890965,\n",
       "       10.04572805,  9.49120253, 17.14092446, 22.97794339, 20.9927775 ,\n",
       "       17.74945169, 13.00312385,  8.88749385, 12.55153454, 13.29399236,\n",
       "       16.52221887, 22.11089367, 12.34091086, 18.85488369,  9.73530154])"
      ]
     },
     "execution_count": 59,
     "metadata": {},
     "output_type": "execute_result"
    }
   ],
   "source": [
    "Y_pred_test"
   ]
  },
  {
   "cell_type": "code",
   "execution_count": 60,
   "id": "10db9e12",
   "metadata": {},
   "outputs": [],
   "source": [
    "from sklearn.metrics import mean_absolute_error,mean_squared_error,r2_score"
   ]
  },
  {
   "cell_type": "code",
   "execution_count": 61,
   "id": "2fe88ea8",
   "metadata": {},
   "outputs": [
    {
     "name": "stdout",
     "output_type": "stream",
     "text": [
      "2.7317157831419667    2.644095696076887\n"
     ]
    }
   ],
   "source": [
    "mse_train=mean_squared_error(Y_train,Y_pred_train)\n",
    "mse_test=mean_squared_error(Y_test,Y_pred_test)\n",
    "print(mse_train,\"  \",mse_test)"
   ]
  },
  {
   "cell_type": "code",
   "execution_count": 62,
   "id": "24967457",
   "metadata": {},
   "outputs": [
    {
     "name": "stdout",
     "output_type": "stream",
     "text": [
      "1.2515443527003556    1.2199686685128448\n"
     ]
    }
   ],
   "source": [
    "mae_train=mean_absolute_error(Y_train,Y_pred_train)\n",
    "mae_test=mean_absolute_error(Y_test,Y_pred_test)\n",
    "print(mae_train,\"  \",mae_test)"
   ]
  },
  {
   "cell_type": "code",
   "execution_count": 63,
   "id": "034cfadd",
   "metadata": {},
   "outputs": [
    {
     "name": "stdout",
     "output_type": "stream",
     "text": [
      "1.6527903022289205    1.626067555815836\n"
     ]
    }
   ],
   "source": [
    "rmse_train=np.sqrt(mean_squared_error(Y_train,Y_pred_train))\n",
    "rmse_test=np.sqrt(mean_squared_error(Y_test,Y_pred_test))\n",
    "print(rmse_train,\"  \",rmse_test)"
   ]
  },
  {
   "cell_type": "code",
   "execution_count": 64,
   "id": "68ed7904",
   "metadata": {},
   "outputs": [
    {
     "name": "stdout",
     "output_type": "stream",
     "text": [
      "0.9050971033639521    0.8862808341937849\n"
     ]
    }
   ],
   "source": [
    "r2_score_train=r2_score(Y_train,Y_pred_train)\n",
    "r2_score_test=r2_score(Y_test,Y_pred_test)\n",
    "print(r2_score_train,\"  \",r2_score_test)"
   ]
  },
  {
   "cell_type": "code",
   "execution_count": 65,
   "id": "ca4bfc0a",
   "metadata": {},
   "outputs": [
    {
     "data": {
      "text/plain": [
       "160"
      ]
     },
     "execution_count": 65,
     "metadata": {},
     "output_type": "execute_result"
    }
   ],
   "source": [
    "n_train=X_train.shape[0]\n",
    "n_train"
   ]
  },
  {
   "cell_type": "code",
   "execution_count": 66,
   "id": "2a125b0c",
   "metadata": {},
   "outputs": [
    {
     "data": {
      "text/plain": [
       "40"
      ]
     },
     "execution_count": 66,
     "metadata": {},
     "output_type": "execute_result"
    }
   ],
   "source": [
    "n_test=X_test.shape[0]\n",
    "n_test"
   ]
  },
  {
   "cell_type": "code",
   "execution_count": 67,
   "id": "ad56e558",
   "metadata": {},
   "outputs": [
    {
     "data": {
      "text/plain": [
       "2"
      ]
     },
     "execution_count": 67,
     "metadata": {},
     "output_type": "execute_result"
    }
   ],
   "source": [
    "p=len(X_train.columns)\n",
    "p"
   ]
  },
  {
   "cell_type": "code",
   "execution_count": 68,
   "id": "bbec5743",
   "metadata": {},
   "outputs": [
    {
     "name": "stdout",
     "output_type": "stream",
     "text": [
      "90.38881492666776     88.01338522583137\n"
     ]
    }
   ],
   "source": [
    "adj_r2_score_train=1-(((1-r2_score_train)*(n_train-1))/(n_train-p-1))\n",
    "adj_r2_score_test=1-(((1-r2_score_test)*(n_test-1))/(n_test-p-1))\n",
    "print(adj_r2_score_train*100,\"   \",adj_r2_score_test*100)"
   ]
  },
  {
   "cell_type": "code",
   "execution_count": null,
   "id": "838e9203",
   "metadata": {},
   "outputs": [],
   "source": []
  }
 ],
 "metadata": {
  "kernelspec": {
   "display_name": "base",
   "language": "python",
   "name": "python3"
  },
  "language_info": {
   "codemirror_mode": {
    "name": "ipython",
    "version": 3
   },
   "file_extension": ".py",
   "mimetype": "text/x-python",
   "name": "python",
   "nbconvert_exporter": "python",
   "pygments_lexer": "ipython3",
   "version": "3.8.5"
  }
 },
 "nbformat": 4,
 "nbformat_minor": 5
}
